{
 "cells": [
  {
   "cell_type": "code",
   "execution_count": 5,
   "id": "65f697c1",
   "metadata": {},
   "outputs": [],
   "source": [
    "DATA_DIR = 'MMHS150K/img_resized'\n",
    "main_file ='MMHS150K/MMHS150K_GT.json'\n",
    "import os\n",
    "import json\n",
    "import pandas as pd"
   ]
  },
  {
   "cell_type": "code",
   "execution_count": 6,
   "id": "52bc8e34",
   "metadata": {},
   "outputs": [],
   "source": [
    "data =json.load(open(main_file))\n",
    "non_hate_count = 0\n",
    "hate_count = 0\n",
    "disagree_count = 0\n",
    "data=pd.DataFrame(data).T"
   ]
  },
  {
   "cell_type": "code",
   "execution_count": 10,
   "id": "42d0e2b6",
   "metadata": {},
   "outputs": [
    {
     "data": {
      "text/plain": [
       "Index(['img_url', 'labels', 'tweet_url', 'tweet_text', 'labels_str'], dtype='object')"
      ]
     },
     "execution_count": 10,
     "metadata": {},
     "output_type": "execute_result"
    }
   ],
   "source": [
    "data.columns"
   ]
  },
  {
   "cell_type": "code",
   "execution_count": null,
   "id": "72483b10",
   "metadata": {},
   "outputs": [
    {
     "data": {
      "text/html": [
       "<div>\n",
       "<style scoped>\n",
       "    .dataframe tbody tr th:only-of-type {\n",
       "        vertical-align: middle;\n",
       "    }\n",
       "\n",
       "    .dataframe tbody tr th {\n",
       "        vertical-align: top;\n",
       "    }\n",
       "\n",
       "    .dataframe thead th {\n",
       "        text-align: right;\n",
       "    }\n",
       "</style>\n",
       "<table border=\"1\" class=\"dataframe\">\n",
       "  <thead>\n",
       "    <tr style=\"text-align: right;\">\n",
       "      <th></th>\n",
       "      <th>img_url</th>\n",
       "      <th>labels</th>\n",
       "      <th>tweet_url</th>\n",
       "      <th>tweet_text</th>\n",
       "      <th>labels_str</th>\n",
       "    </tr>\n",
       "  </thead>\n",
       "  <tbody>\n",
       "    <tr>\n",
       "      <th>1114679353714016256</th>\n",
       "      <td>http://pbs.twimg.com/tweet_video_thumb/D3gi9MH...</td>\n",
       "      <td>[4, 1, 3]</td>\n",
       "      <td>https://twitter.com/user/status/11146793537140...</td>\n",
       "      <td>@FriskDontMiss Nigga https://t.co/cAsaLWEpue</td>\n",
       "      <td>[Religion, Racist, Homophobe]</td>\n",
       "    </tr>\n",
       "    <tr>\n",
       "      <th>1063020048816660480</th>\n",
       "      <td>http://pbs.twimg.com/ext_tw_video_thumb/106301...</td>\n",
       "      <td>[5, 5, 5]</td>\n",
       "      <td>https://twitter.com/user/status/10630200488166...</td>\n",
       "      <td>My horses are retarded https://t.co/HYhqc6d5WN</td>\n",
       "      <td>[OtherHate, OtherHate, OtherHate]</td>\n",
       "    </tr>\n",
       "    <tr>\n",
       "      <th>1108927368075374593</th>\n",
       "      <td>http://pbs.twimg.com/media/D2OzhzHUwAADQjd.jpg</td>\n",
       "      <td>[0, 0, 0]</td>\n",
       "      <td>https://twitter.com/user/status/11089273680753...</td>\n",
       "      <td>“NIGGA ON MA MOMMA YOUNGBOY BE SPITTING REAL S...</td>\n",
       "      <td>[NotHate, NotHate, NotHate]</td>\n",
       "    </tr>\n",
       "    <tr>\n",
       "      <th>1114558534635618305</th>\n",
       "      <td>http://pbs.twimg.com/ext_tw_video_thumb/111401...</td>\n",
       "      <td>[1, 0, 0]</td>\n",
       "      <td>https://twitter.com/user/status/11145585346356...</td>\n",
       "      <td>RT xxSuGVNGxx: I ran into this HOLY NIGGA TODA...</td>\n",
       "      <td>[Racist, NotHate, NotHate]</td>\n",
       "    </tr>\n",
       "    <tr>\n",
       "      <th>1035252480215592966</th>\n",
       "      <td>http://pbs.twimg.com/media/Dl30pGIU8AAVGxO.jpg</td>\n",
       "      <td>[1, 0, 1]</td>\n",
       "      <td>https://twitter.com/user/status/10352524802155...</td>\n",
       "      <td>“EVERYbody calling you Nigger now!” https://t....</td>\n",
       "      <td>[Racist, NotHate, Racist]</td>\n",
       "    </tr>\n",
       "  </tbody>\n",
       "</table>\n",
       "</div>"
      ],
      "text/plain": [
       "                                                               img_url  \\\n",
       "1114679353714016256  http://pbs.twimg.com/tweet_video_thumb/D3gi9MH...   \n",
       "1063020048816660480  http://pbs.twimg.com/ext_tw_video_thumb/106301...   \n",
       "1108927368075374593     http://pbs.twimg.com/media/D2OzhzHUwAADQjd.jpg   \n",
       "1114558534635618305  http://pbs.twimg.com/ext_tw_video_thumb/111401...   \n",
       "1035252480215592966     http://pbs.twimg.com/media/Dl30pGIU8AAVGxO.jpg   \n",
       "\n",
       "                        labels  \\\n",
       "1114679353714016256  [4, 1, 3]   \n",
       "1063020048816660480  [5, 5, 5]   \n",
       "1108927368075374593  [0, 0, 0]   \n",
       "1114558534635618305  [1, 0, 0]   \n",
       "1035252480215592966  [1, 0, 1]   \n",
       "\n",
       "                                                             tweet_url  \\\n",
       "1114679353714016256  https://twitter.com/user/status/11146793537140...   \n",
       "1063020048816660480  https://twitter.com/user/status/10630200488166...   \n",
       "1108927368075374593  https://twitter.com/user/status/11089273680753...   \n",
       "1114558534635618305  https://twitter.com/user/status/11145585346356...   \n",
       "1035252480215592966  https://twitter.com/user/status/10352524802155...   \n",
       "\n",
       "                                                            tweet_text  \\\n",
       "1114679353714016256       @FriskDontMiss Nigga https://t.co/cAsaLWEpue   \n",
       "1063020048816660480     My horses are retarded https://t.co/HYhqc6d5WN   \n",
       "1108927368075374593  “NIGGA ON MA MOMMA YOUNGBOY BE SPITTING REAL S...   \n",
       "1114558534635618305  RT xxSuGVNGxx: I ran into this HOLY NIGGA TODA...   \n",
       "1035252480215592966  “EVERYbody calling you Nigger now!” https://t....   \n",
       "\n",
       "                                            labels_str  \n",
       "1114679353714016256      [Religion, Racist, Homophobe]  \n",
       "1063020048816660480  [OtherHate, OtherHate, OtherHate]  \n",
       "1108927368075374593        [NotHate, NotHate, NotHate]  \n",
       "1114558534635618305         [Racist, NotHate, NotHate]  \n",
       "1035252480215592966          [Racist, NotHate, Racist]  "
      ]
     },
     "execution_count": 8,
     "metadata": {},
     "output_type": "execute_result"
    }
   ],
   "source": [
    "data.head()"
   ]
  },
  {
   "cell_type": "code",
   "execution_count": 10,
   "id": "4dda4484",
   "metadata": {},
   "outputs": [
    {
     "data": {
      "text/plain": [
       "Index(['1114679353714016256', '1063020048816660480', '1108927368075374593',\n",
       "       '1114558534635618305', '1035252480215592966', '1106978219654303744',\n",
       "       '1113920043568463874', '1114588617693966336', '1045809514740666370',\n",
       "       '1108178453910695936',\n",
       "       ...\n",
       "       '1116534812263710720', '1062161948748513280', '1107392307815477250',\n",
       "       '1105465552544374786', '1114066031071453184', '1114170734472048640',\n",
       "       '1110368198786846720', '1106941858540851200', '1105268309233188865',\n",
       "       '1114653514364530691'],\n",
       "      dtype='object', length=149823)"
      ]
     },
     "execution_count": 10,
     "metadata": {},
     "output_type": "execute_result"
    }
   ],
   "source": [
    "data.index"
   ]
  },
  {
   "cell_type": "code",
   "execution_count": 8,
   "id": "ec4f5ec4",
   "metadata": {},
   "outputs": [],
   "source": [
    "from collections import Counter\n",
    "def find_majority(labels):\n",
    "    count = Counter(labels)\n",
    "    val, freq = count.most_common(1)[0]\n",
    "    if freq >= 2:\n",
    "        return val\n",
    "    else:\n",
    "        return -1\n",
    "    "
   ]
  },
  {
   "cell_type": "code",
   "execution_count": 15,
   "id": "3d677163",
   "metadata": {},
   "outputs": [
    {
     "name": "stdout",
     "output_type": "stream",
     "text": [
      "Non hate count: 141247\n",
      "Hate count: 8579\n",
      "Disagree count: 557\n",
      "Count dict: {1: 3027, 2: 1225, 3: 1680, 4: 75, 5: 2014}\n"
     ]
    }
   ],
   "source": [
    "count_dict={1:0, 2: 0, 3:0, 4:0, 5:0}\n",
    "for i,row in data.iterrows():\n",
    "    label = row['labels']\n",
    "    if 0 in label:\n",
    "        non_hate_count+=1\n",
    "    else:\n",
    "        hate_count+=1\n",
    "        maj = find_majority(label)\n",
    "        if maj==-1:\n",
    "            disagree_count+=1\n",
    "        else:\n",
    "            count_dict[maj]+=1\n",
    "print(\"Non hate count:\", non_hate_count)\n",
    "print(\"Hate count:\", hate_count)\n",
    "print(\"Disagree count:\", disagree_count)\n",
    "print(\"Count dict:\", count_dict)\n",
    "\n"
   ]
  },
  {
   "cell_type": "code",
   "execution_count": 3,
   "id": "8e70cb54",
   "metadata": {},
   "outputs": [],
   "source": [
    "count_dict2={0:0, 1:0, 2: 0, 3:0, 4:0, 5:0}"
   ]
  },
  {
   "cell_type": "code",
   "execution_count": 9,
   "id": "3cc77dc9",
   "metadata": {},
   "outputs": [
    {
     "name": "stdout",
     "output_type": "stream",
     "text": [
      "disagree count: 11714\n",
      "Count dict: {0: 112844, 1: 11926, 2: 3495, 3: 3870, 4: 163, 5: 5811}\n",
      "Total samples: 149823\n"
     ]
    }
   ],
   "source": [
    "disagree_count=0\n",
    "for i,row in data.iterrows():\n",
    "    label = row['labels']\n",
    "    maj = find_majority(label)\n",
    "    if maj==-1:\n",
    "        disagree_count+=1\n",
    "    else:\n",
    "        count_dict2[maj]+=1\n",
    "print(\"disagree count:\", disagree_count)\n",
    "print(\"Count dict:\", count_dict2)\n",
    "print(\"Total samples:\", sum(count_dict2.values()) + disagree_count)\n"
   ]
  },
  {
   "cell_type": "code",
   "execution_count": null,
   "id": "9ff912ae",
   "metadata": {},
   "outputs": [],
   "source": []
  }
 ],
 "metadata": {
  "kernelspec": {
   "display_name": "def",
   "language": "python",
   "name": "python3"
  },
  "language_info": {
   "codemirror_mode": {
    "name": "ipython",
    "version": 3
   },
   "file_extension": ".py",
   "mimetype": "text/x-python",
   "name": "python",
   "nbconvert_exporter": "python",
   "pygments_lexer": "ipython3",
   "version": "3.13.1"
  }
 },
 "nbformat": 4,
 "nbformat_minor": 5
}
